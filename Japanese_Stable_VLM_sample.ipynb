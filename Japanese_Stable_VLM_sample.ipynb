{
 "cells": [
  {
   "cell_type": "markdown",
   "id": "ca2dda75",
   "metadata": {},
   "source": [
    "# Japanese Stable VLMを利用した画像処理ツール"
   ]
  },
  {
   "cell_type": "code",
   "execution_count": 1,
   "id": "f85c7a3a",
   "metadata": {},
   "outputs": [],
   "source": [
    "from stable_vlm import StableVLM"
   ]
  },
  {
   "cell_type": "code",
   "execution_count": 2,
   "id": "27d5bffb",
   "metadata": {},
   "outputs": [
    {
     "data": {
      "application/json": {
       "ascii": false,
       "bar_format": null,
       "colour": null,
       "elapsed": 0.011991262435913086,
       "initial": 0,
       "n": 0,
       "ncols": null,
       "nrows": 29,
       "postfix": null,
       "prefix": "Loading checkpoint shards",
       "rate": null,
       "total": 7,
       "unit": "it",
       "unit_divisor": 1000,
       "unit_scale": false
      },
      "application/vnd.jupyter.widget-view+json": {
       "model_id": "a8ae79d634e641dc92d5da83ab797e00",
       "version_major": 2,
       "version_minor": 0
      },
      "text/plain": [
       "Loading checkpoint shards:   0%|          | 0/7 [00:00<?, ?it/s]"
      ]
     },
     "metadata": {},
     "output_type": "display_data"
    }
   ],
   "source": [
    "model = StableVLM(\"Z:\\models\\japanese-stable-vlm\")"
   ]
  },
  {
   "cell_type": "markdown",
   "id": "99825509",
   "metadata": {},
   "source": [
    "## 【ファイル名の一括変更】画像ファイル名をキャプションに変更する"
   ]
  },
  {
   "cell_type": "code",
   "execution_count": 4,
   "id": "7edb27cd",
   "metadata": {},
   "outputs": [
    {
     "name": "stderr",
     "output_type": "stream",
     "text": [
      "  0%|                                                              | 0/8 [00:00<?, ?it/s]Setting `pad_token_id` to `eos_token_id`:2 for open-end generation.\n",
      " 12%|██████▊                                               | 1/8 [00:22<02:37, 22.51s/it]Setting `pad_token_id` to `eos_token_id`:2 for open-end generation.\n",
      " 25%|█████████████▌                                        | 2/8 [00:24<01:01, 10.26s/it]Setting `pad_token_id` to `eos_token_id`:2 for open-end generation.\n",
      " 38%|████████████████████▎                                 | 3/8 [00:25<00:31,  6.24s/it]Setting `pad_token_id` to `eos_token_id`:2 for open-end generation.\n",
      " 50%|███████████████████████████                           | 4/8 [00:27<00:17,  4.40s/it]Setting `pad_token_id` to `eos_token_id`:2 for open-end generation.\n",
      " 62%|█████████████████████████████████▊                    | 5/8 [00:29<00:10,  3.64s/it]Setting `pad_token_id` to `eos_token_id`:2 for open-end generation.\n",
      " 75%|████████████████████████████████████████▌             | 6/8 [00:31<00:06,  3.15s/it]Setting `pad_token_id` to `eos_token_id`:2 for open-end generation.\n",
      " 88%|███████████████████████████████████████████████▎      | 7/8 [00:33<00:02,  2.70s/it]Setting `pad_token_id` to `eos_token_id`:2 for open-end generation.\n",
      "100%|██████████████████████████████████████████████████████| 8/8 [00:34<00:00,  4.36s/it]\n"
     ]
    }
   ],
   "source": [
    "model.run_tools(\n",
    "    input_dir=\"path/to/images_input\",\n",
    "    output_dir=\"path/to/images_output\",\n",
    "    task=\"caption\",\n",
    "    input=\"\",\n",
    "    do_sample=False,\n",
    "    save_text=True,\n",
    "    rename=True,\n",
    "    classify=False,\n",
    ")"
   ]
  },
  {
   "cell_type": "markdown",
   "id": "e941ff52",
   "metadata": {},
   "source": [
    "## 【フォルダ分け】写真に写っている人の人数でフォルダ分け"
   ]
  },
  {
   "cell_type": "code",
   "execution_count": 5,
   "id": "a2ad0113",
   "metadata": {},
   "outputs": [
    {
     "name": "stderr",
     "output_type": "stream",
     "text": [
      "  0%|                                                              | 0/8 [00:00<?, ?it/s]Setting `pad_token_id` to `eos_token_id`:2 for open-end generation.\n",
      " 12%|██████▊                                               | 1/8 [00:01<00:08,  1.22s/it]Setting `pad_token_id` to `eos_token_id`:2 for open-end generation.\n",
      " 25%|█████████████▌                                        | 2/8 [00:02<00:06,  1.07s/it]Setting `pad_token_id` to `eos_token_id`:2 for open-end generation.\n",
      " 38%|████████████████████▎                                 | 3/8 [00:03<00:05,  1.04s/it]Setting `pad_token_id` to `eos_token_id`:2 for open-end generation.\n",
      " 50%|███████████████████████████                           | 4/8 [00:04<00:04,  1.03s/it]Setting `pad_token_id` to `eos_token_id`:2 for open-end generation.\n",
      " 62%|█████████████████████████████████▊                    | 5/8 [00:05<00:03,  1.02s/it]Setting `pad_token_id` to `eos_token_id`:2 for open-end generation.\n",
      " 75%|████████████████████████████████████████▌             | 6/8 [00:06<00:02,  1.06s/it]Setting `pad_token_id` to `eos_token_id`:2 for open-end generation.\n",
      " 88%|███████████████████████████████████████████████▎      | 7/8 [00:07<00:01,  1.08s/it]Setting `pad_token_id` to `eos_token_id`:2 for open-end generation.\n",
      "100%|██████████████████████████████████████████████████████| 8/8 [00:08<00:00,  1.08s/it]\n"
     ]
    }
   ],
   "source": [
    "model.run_tools(\n",
    "    input_dir=\"path/to/images_input\",\n",
    "    output_dir=\"path/to/images_output\",\n",
    "    task=\"vqa\",\n",
    "    input=\"この画像に写っている人の人数は何人ですか？\",\n",
    "    do_sample=False,\n",
    "    save_text=False,\n",
    "    rename=False,\n",
    "    classify=True,\n",
    ")"
   ]
  },
  {
   "cell_type": "markdown",
   "id": "ee28ef67",
   "metadata": {},
   "source": [
    "## 【テキストファイルに書き出す】質問の応答をテキストファイルに書き出す"
   ]
  },
  {
   "cell_type": "code",
   "execution_count": 6,
   "id": "43f89c42",
   "metadata": {},
   "outputs": [
    {
     "name": "stderr",
     "output_type": "stream",
     "text": [
      "  0%|                                                              | 0/8 [00:00<?, ?it/s]Setting `pad_token_id` to `eos_token_id`:2 for open-end generation.\n",
      " 12%|██████▊                                               | 1/8 [00:02<00:14,  2.08s/it]Setting `pad_token_id` to `eos_token_id`:2 for open-end generation.\n",
      " 25%|█████████████▌                                        | 2/8 [00:03<00:10,  1.68s/it]Setting `pad_token_id` to `eos_token_id`:2 for open-end generation.\n",
      " 38%|████████████████████▎                                 | 3/8 [00:05<00:08,  1.63s/it]Setting `pad_token_id` to `eos_token_id`:2 for open-end generation.\n",
      " 50%|███████████████████████████                           | 4/8 [00:06<00:06,  1.68s/it]Setting `pad_token_id` to `eos_token_id`:2 for open-end generation.\n",
      " 62%|█████████████████████████████████▊                    | 5/8 [00:08<00:05,  1.70s/it]Setting `pad_token_id` to `eos_token_id`:2 for open-end generation.\n",
      " 75%|████████████████████████████████████████▌             | 6/8 [00:10<00:03,  1.73s/it]Setting `pad_token_id` to `eos_token_id`:2 for open-end generation.\n",
      " 88%|███████████████████████████████████████████████▎      | 7/8 [00:11<00:01,  1.67s/it]Setting `pad_token_id` to `eos_token_id`:2 for open-end generation.\n",
      "100%|██████████████████████████████████████████████████████| 8/8 [00:13<00:00,  1.69s/it]\n"
     ]
    }
   ],
   "source": [
    "model.run_tools(\n",
    "    input_dir=\"path/to/images_input\",\n",
    "    output_dir=\"path/to/images_output\",\n",
    "    task=\"vqa\",\n",
    "    input=\"この画像の面白い点は何ですか?\",\n",
    "    do_sample=False,\n",
    "    save_text=True,\n",
    "    rename=False,\n",
    "    classify=False,\n",
    ")"
   ]
  },
  {
   "cell_type": "code",
   "execution_count": null,
   "id": "d46696bf",
   "metadata": {},
   "outputs": [],
   "source": []
  }
 ],
 "metadata": {
  "kernelspec": {
   "display_name": "Python 3 (ipykernel)",
   "language": "python",
   "name": "python3"
  },
  "language_info": {
   "codemirror_mode": {
    "name": "ipython",
    "version": 3
   },
   "file_extension": ".py",
   "mimetype": "text/x-python",
   "name": "python",
   "nbconvert_exporter": "python",
   "pygments_lexer": "ipython3",
   "version": "3.10.8"
  }
 },
 "nbformat": 4,
 "nbformat_minor": 5
}
